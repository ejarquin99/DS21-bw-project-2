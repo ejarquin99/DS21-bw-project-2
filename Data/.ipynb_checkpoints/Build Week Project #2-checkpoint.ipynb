{
 "cells": [
  {
   "cell_type": "code",
   "execution_count": 46,
   "metadata": {},
   "outputs": [],
   "source": [
    "from category_encoders import OneHotEncoder, OrdinalEncoder\n",
    "from sklearn.ensemble import RandomForestClassifier, RandomForestRegressor\n",
    "from sklearn.impute import SimpleImputer\n",
    "from sklearn.linear_model import LogisticRegression, Ridge, RidgeCV\n",
    "from sklearn.metrics import accuracy_score, plot_confusion_matrix, classification_report, r2_score, mean_squared_error, mean_absolute_error\n",
    "from sklearn.model_selection import train_test_split\n",
    "from sklearn.pipeline import make_pipeline\n",
    "from sklearn.preprocessing import StandardScaler\n",
    "from sklearn.ensemble import GradientBoostingRegressor\n",
    "from xgboost import XGBRegressor\n",
    "from sklearn.inspection import permutation_importance\n",
    "import pandas as pd\n",
    "import matplotlib.pyplot as plt\n",
    "import numpy as np"
   ]
  },
  {
   "cell_type": "code",
   "execution_count": 37,
   "metadata": {},
   "outputs": [],
   "source": [
    "DATA_PATH = '../data/housing data/'\n",
    "train= pd.read_csv(DATA_PATH+'Build Week train.csv')\n",
    "test = pd.read_csv(DATA_PATH+'Build Week test.csv')"
   ]
  },
  {
   "cell_type": "code",
   "execution_count": 6,
   "metadata": {},
   "outputs": [
    {
     "name": "stdout",
     "output_type": "stream",
     "text": [
      "<class 'pandas.core.frame.DataFrame'>\n",
      "RangeIndex: 29451 entries, 0 to 29450\n",
      "Data columns (total 12 columns):\n",
      " #   Column                 Non-Null Count  Dtype  \n",
      "---  ------                 --------------  -----  \n",
      " 0   POSTED_BY              29451 non-null  object \n",
      " 1   UNDER_CONSTRUCTION     29451 non-null  int64  \n",
      " 2   RERA                   29451 non-null  int64  \n",
      " 3   BHK_NO.                29451 non-null  int64  \n",
      " 4   BHK_OR_RK              29451 non-null  object \n",
      " 5   SQUARE_FT              29451 non-null  float64\n",
      " 6   READY_TO_MOVE          29451 non-null  int64  \n",
      " 7   RESALE                 29451 non-null  int64  \n",
      " 8   ADDRESS                29451 non-null  object \n",
      " 9   LONGITUDE              29451 non-null  float64\n",
      " 10  LATITUDE               29451 non-null  float64\n",
      " 11  TARGET(PRICE_IN_LACS)  29451 non-null  float64\n",
      "dtypes: float64(4), int64(5), object(3)\n",
      "memory usage: 2.7+ MB\n"
     ]
    }
   ],
   "source": [
    "train.info()"
   ]
  },
  {
   "cell_type": "markdown",
   "metadata": {},
   "source": [
    "# I. Wrangling Data"
   ]
  },
  {
   "cell_type": "code",
   "execution_count": 39,
   "metadata": {},
   "outputs": [],
   "source": [
    "# Creating a simple function that rounds up the SQFT and removes the high-cardinality column ('ADDRESS')\n",
    "def wrangle(df):\n",
    "    cols = ['POSTED_BY', 'UNDER_CONSTRUCTION', 'RERA', 'BHK_NO.', 'BHK_OR_RK',\n",
    "       'SQUARE_FT', 'READY_TO_MOVE', 'RESALE', 'ADDRESS', 'LONGITUDE',\n",
    "       'LATITUDE']\n",
    "    df[cols[5]] = df[cols[5]].apply(np.ceil)\n",
    "    \n",
    "    df.drop(columns=cols[8], inplace=True)\n",
    "    \n",
    "    return df"
   ]
  },
  {
   "cell_type": "code",
   "execution_count": 41,
   "metadata": {
    "collapsed": true
   },
   "outputs": [
    {
     "data": {
      "text/html": [
       "<div>\n",
       "<style scoped>\n",
       "    .dataframe tbody tr th:only-of-type {\n",
       "        vertical-align: middle;\n",
       "    }\n",
       "\n",
       "    .dataframe tbody tr th {\n",
       "        vertical-align: top;\n",
       "    }\n",
       "\n",
       "    .dataframe thead th {\n",
       "        text-align: right;\n",
       "    }\n",
       "</style>\n",
       "<table border=\"1\" class=\"dataframe\">\n",
       "  <thead>\n",
       "    <tr style=\"text-align: right;\">\n",
       "      <th></th>\n",
       "      <th>POSTED_BY</th>\n",
       "      <th>UNDER_CONSTRUCTION</th>\n",
       "      <th>RERA</th>\n",
       "      <th>BHK_NO.</th>\n",
       "      <th>BHK_OR_RK</th>\n",
       "      <th>SQUARE_FT</th>\n",
       "      <th>READY_TO_MOVE</th>\n",
       "      <th>RESALE</th>\n",
       "      <th>LONGITUDE</th>\n",
       "      <th>LATITUDE</th>\n",
       "      <th>TARGET(PRICE_IN_LACS)</th>\n",
       "    </tr>\n",
       "  </thead>\n",
       "  <tbody>\n",
       "    <tr>\n",
       "      <th>0</th>\n",
       "      <td>Owner</td>\n",
       "      <td>0</td>\n",
       "      <td>0</td>\n",
       "      <td>2</td>\n",
       "      <td>BHK</td>\n",
       "      <td>1301.0</td>\n",
       "      <td>1</td>\n",
       "      <td>1</td>\n",
       "      <td>12.969910</td>\n",
       "      <td>77.597960</td>\n",
       "      <td>55.0</td>\n",
       "    </tr>\n",
       "    <tr>\n",
       "      <th>1</th>\n",
       "      <td>Dealer</td>\n",
       "      <td>0</td>\n",
       "      <td>0</td>\n",
       "      <td>2</td>\n",
       "      <td>BHK</td>\n",
       "      <td>1275.0</td>\n",
       "      <td>1</td>\n",
       "      <td>1</td>\n",
       "      <td>12.274538</td>\n",
       "      <td>76.644605</td>\n",
       "      <td>51.0</td>\n",
       "    </tr>\n",
       "    <tr>\n",
       "      <th>2</th>\n",
       "      <td>Owner</td>\n",
       "      <td>0</td>\n",
       "      <td>0</td>\n",
       "      <td>2</td>\n",
       "      <td>BHK</td>\n",
       "      <td>934.0</td>\n",
       "      <td>1</td>\n",
       "      <td>1</td>\n",
       "      <td>12.778033</td>\n",
       "      <td>77.632191</td>\n",
       "      <td>43.0</td>\n",
       "    </tr>\n",
       "    <tr>\n",
       "      <th>3</th>\n",
       "      <td>Owner</td>\n",
       "      <td>0</td>\n",
       "      <td>1</td>\n",
       "      <td>2</td>\n",
       "      <td>BHK</td>\n",
       "      <td>930.0</td>\n",
       "      <td>1</td>\n",
       "      <td>1</td>\n",
       "      <td>28.642300</td>\n",
       "      <td>77.344500</td>\n",
       "      <td>62.5</td>\n",
       "    </tr>\n",
       "    <tr>\n",
       "      <th>4</th>\n",
       "      <td>Dealer</td>\n",
       "      <td>1</td>\n",
       "      <td>0</td>\n",
       "      <td>2</td>\n",
       "      <td>BHK</td>\n",
       "      <td>1000.0</td>\n",
       "      <td>0</td>\n",
       "      <td>1</td>\n",
       "      <td>22.592200</td>\n",
       "      <td>88.484911</td>\n",
       "      <td>60.5</td>\n",
       "    </tr>\n",
       "    <tr>\n",
       "      <th>...</th>\n",
       "      <td>...</td>\n",
       "      <td>...</td>\n",
       "      <td>...</td>\n",
       "      <td>...</td>\n",
       "      <td>...</td>\n",
       "      <td>...</td>\n",
       "      <td>...</td>\n",
       "      <td>...</td>\n",
       "      <td>...</td>\n",
       "      <td>...</td>\n",
       "      <td>...</td>\n",
       "    </tr>\n",
       "    <tr>\n",
       "      <th>29446</th>\n",
       "      <td>Owner</td>\n",
       "      <td>0</td>\n",
       "      <td>0</td>\n",
       "      <td>3</td>\n",
       "      <td>BHK</td>\n",
       "      <td>2500.0</td>\n",
       "      <td>1</td>\n",
       "      <td>1</td>\n",
       "      <td>27.140626</td>\n",
       "      <td>78.043277</td>\n",
       "      <td>45.0</td>\n",
       "    </tr>\n",
       "    <tr>\n",
       "      <th>29447</th>\n",
       "      <td>Owner</td>\n",
       "      <td>0</td>\n",
       "      <td>0</td>\n",
       "      <td>2</td>\n",
       "      <td>BHK</td>\n",
       "      <td>770.0</td>\n",
       "      <td>1</td>\n",
       "      <td>1</td>\n",
       "      <td>39.945409</td>\n",
       "      <td>-86.150721</td>\n",
       "      <td>16.0</td>\n",
       "    </tr>\n",
       "    <tr>\n",
       "      <th>29448</th>\n",
       "      <td>Dealer</td>\n",
       "      <td>0</td>\n",
       "      <td>0</td>\n",
       "      <td>2</td>\n",
       "      <td>BHK</td>\n",
       "      <td>1023.0</td>\n",
       "      <td>1</td>\n",
       "      <td>1</td>\n",
       "      <td>26.928785</td>\n",
       "      <td>75.828002</td>\n",
       "      <td>27.1</td>\n",
       "    </tr>\n",
       "    <tr>\n",
       "      <th>29449</th>\n",
       "      <td>Owner</td>\n",
       "      <td>0</td>\n",
       "      <td>0</td>\n",
       "      <td>2</td>\n",
       "      <td>BHK</td>\n",
       "      <td>928.0</td>\n",
       "      <td>1</td>\n",
       "      <td>1</td>\n",
       "      <td>12.900150</td>\n",
       "      <td>80.227910</td>\n",
       "      <td>67.0</td>\n",
       "    </tr>\n",
       "    <tr>\n",
       "      <th>29450</th>\n",
       "      <td>Dealer</td>\n",
       "      <td>0</td>\n",
       "      <td>1</td>\n",
       "      <td>2</td>\n",
       "      <td>BHK</td>\n",
       "      <td>897.0</td>\n",
       "      <td>1</td>\n",
       "      <td>1</td>\n",
       "      <td>26.832353</td>\n",
       "      <td>75.841749</td>\n",
       "      <td>27.8</td>\n",
       "    </tr>\n",
       "  </tbody>\n",
       "</table>\n",
       "<p>29451 rows × 11 columns</p>\n",
       "</div>"
      ],
      "text/plain": [
       "      POSTED_BY  UNDER_CONSTRUCTION  RERA  BHK_NO. BHK_OR_RK  SQUARE_FT  \\\n",
       "0         Owner                   0     0        2       BHK     1301.0   \n",
       "1        Dealer                   0     0        2       BHK     1275.0   \n",
       "2         Owner                   0     0        2       BHK      934.0   \n",
       "3         Owner                   0     1        2       BHK      930.0   \n",
       "4        Dealer                   1     0        2       BHK     1000.0   \n",
       "...         ...                 ...   ...      ...       ...        ...   \n",
       "29446     Owner                   0     0        3       BHK     2500.0   \n",
       "29447     Owner                   0     0        2       BHK      770.0   \n",
       "29448    Dealer                   0     0        2       BHK     1023.0   \n",
       "29449     Owner                   0     0        2       BHK      928.0   \n",
       "29450    Dealer                   0     1        2       BHK      897.0   \n",
       "\n",
       "       READY_TO_MOVE  RESALE  LONGITUDE   LATITUDE  TARGET(PRICE_IN_LACS)  \n",
       "0                  1       1  12.969910  77.597960                   55.0  \n",
       "1                  1       1  12.274538  76.644605                   51.0  \n",
       "2                  1       1  12.778033  77.632191                   43.0  \n",
       "3                  1       1  28.642300  77.344500                   62.5  \n",
       "4                  0       1  22.592200  88.484911                   60.5  \n",
       "...              ...     ...        ...        ...                    ...  \n",
       "29446              1       1  27.140626  78.043277                   45.0  \n",
       "29447              1       1  39.945409 -86.150721                   16.0  \n",
       "29448              1       1  26.928785  75.828002                   27.1  \n",
       "29449              1       1  12.900150  80.227910                   67.0  \n",
       "29450              1       1  26.832353  75.841749                   27.8  \n",
       "\n",
       "[29451 rows x 11 columns]"
      ]
     },
     "execution_count": 41,
     "metadata": {},
     "output_type": "execute_result"
    }
   ],
   "source": [
    "wrangle(train)"
   ]
  },
  {
   "cell_type": "code",
   "execution_count": 42,
   "metadata": {
    "collapsed": true
   },
   "outputs": [
    {
     "data": {
      "text/html": [
       "<div>\n",
       "<style scoped>\n",
       "    .dataframe tbody tr th:only-of-type {\n",
       "        vertical-align: middle;\n",
       "    }\n",
       "\n",
       "    .dataframe tbody tr th {\n",
       "        vertical-align: top;\n",
       "    }\n",
       "\n",
       "    .dataframe thead th {\n",
       "        text-align: right;\n",
       "    }\n",
       "</style>\n",
       "<table border=\"1\" class=\"dataframe\">\n",
       "  <thead>\n",
       "    <tr style=\"text-align: right;\">\n",
       "      <th></th>\n",
       "      <th>POSTED_BY</th>\n",
       "      <th>UNDER_CONSTRUCTION</th>\n",
       "      <th>RERA</th>\n",
       "      <th>BHK_NO.</th>\n",
       "      <th>BHK_OR_RK</th>\n",
       "      <th>SQUARE_FT</th>\n",
       "      <th>READY_TO_MOVE</th>\n",
       "      <th>RESALE</th>\n",
       "      <th>LONGITUDE</th>\n",
       "      <th>LATITUDE</th>\n",
       "    </tr>\n",
       "  </thead>\n",
       "  <tbody>\n",
       "    <tr>\n",
       "      <th>0</th>\n",
       "      <td>Owner</td>\n",
       "      <td>0</td>\n",
       "      <td>0</td>\n",
       "      <td>1</td>\n",
       "      <td>BHK</td>\n",
       "      <td>546.0</td>\n",
       "      <td>1</td>\n",
       "      <td>1</td>\n",
       "      <td>21.262000</td>\n",
       "      <td>73.047700</td>\n",
       "    </tr>\n",
       "    <tr>\n",
       "      <th>1</th>\n",
       "      <td>Dealer</td>\n",
       "      <td>1</td>\n",
       "      <td>1</td>\n",
       "      <td>2</td>\n",
       "      <td>BHK</td>\n",
       "      <td>800.0</td>\n",
       "      <td>0</td>\n",
       "      <td>0</td>\n",
       "      <td>18.966114</td>\n",
       "      <td>73.148278</td>\n",
       "    </tr>\n",
       "    <tr>\n",
       "      <th>2</th>\n",
       "      <td>Dealer</td>\n",
       "      <td>0</td>\n",
       "      <td>0</td>\n",
       "      <td>2</td>\n",
       "      <td>BHK</td>\n",
       "      <td>1258.0</td>\n",
       "      <td>1</td>\n",
       "      <td>1</td>\n",
       "      <td>22.592200</td>\n",
       "      <td>88.484911</td>\n",
       "    </tr>\n",
       "    <tr>\n",
       "      <th>3</th>\n",
       "      <td>Dealer</td>\n",
       "      <td>0</td>\n",
       "      <td>0</td>\n",
       "      <td>3</td>\n",
       "      <td>BHK</td>\n",
       "      <td>1401.0</td>\n",
       "      <td>1</td>\n",
       "      <td>1</td>\n",
       "      <td>26.988300</td>\n",
       "      <td>75.584600</td>\n",
       "    </tr>\n",
       "    <tr>\n",
       "      <th>4</th>\n",
       "      <td>Owner</td>\n",
       "      <td>0</td>\n",
       "      <td>0</td>\n",
       "      <td>1</td>\n",
       "      <td>BHK</td>\n",
       "      <td>431.0</td>\n",
       "      <td>1</td>\n",
       "      <td>1</td>\n",
       "      <td>22.700000</td>\n",
       "      <td>72.870000</td>\n",
       "    </tr>\n",
       "    <tr>\n",
       "      <th>...</th>\n",
       "      <td>...</td>\n",
       "      <td>...</td>\n",
       "      <td>...</td>\n",
       "      <td>...</td>\n",
       "      <td>...</td>\n",
       "      <td>...</td>\n",
       "      <td>...</td>\n",
       "      <td>...</td>\n",
       "      <td>...</td>\n",
       "      <td>...</td>\n",
       "    </tr>\n",
       "    <tr>\n",
       "      <th>68715</th>\n",
       "      <td>Dealer</td>\n",
       "      <td>0</td>\n",
       "      <td>1</td>\n",
       "      <td>2</td>\n",
       "      <td>BHK</td>\n",
       "      <td>857.0</td>\n",
       "      <td>1</td>\n",
       "      <td>1</td>\n",
       "      <td>19.180000</td>\n",
       "      <td>72.963330</td>\n",
       "    </tr>\n",
       "    <tr>\n",
       "      <th>68716</th>\n",
       "      <td>Dealer</td>\n",
       "      <td>0</td>\n",
       "      <td>1</td>\n",
       "      <td>3</td>\n",
       "      <td>BHK</td>\n",
       "      <td>2305.0</td>\n",
       "      <td>1</td>\n",
       "      <td>1</td>\n",
       "      <td>30.661104</td>\n",
       "      <td>76.746082</td>\n",
       "    </tr>\n",
       "    <tr>\n",
       "      <th>68717</th>\n",
       "      <td>Dealer</td>\n",
       "      <td>1</td>\n",
       "      <td>1</td>\n",
       "      <td>1</td>\n",
       "      <td>BHK</td>\n",
       "      <td>33363.0</td>\n",
       "      <td>0</td>\n",
       "      <td>0</td>\n",
       "      <td>19.222101</td>\n",
       "      <td>72.988231</td>\n",
       "    </tr>\n",
       "    <tr>\n",
       "      <th>68718</th>\n",
       "      <td>Dealer</td>\n",
       "      <td>0</td>\n",
       "      <td>0</td>\n",
       "      <td>2</td>\n",
       "      <td>BHK</td>\n",
       "      <td>1174.0</td>\n",
       "      <td>1</td>\n",
       "      <td>1</td>\n",
       "      <td>18.496670</td>\n",
       "      <td>73.941670</td>\n",
       "    </tr>\n",
       "    <tr>\n",
       "      <th>68719</th>\n",
       "      <td>Dealer</td>\n",
       "      <td>0</td>\n",
       "      <td>0</td>\n",
       "      <td>3</td>\n",
       "      <td>BHK</td>\n",
       "      <td>2440.0</td>\n",
       "      <td>1</td>\n",
       "      <td>1</td>\n",
       "      <td>19.124896</td>\n",
       "      <td>72.893503</td>\n",
       "    </tr>\n",
       "  </tbody>\n",
       "</table>\n",
       "<p>68720 rows × 10 columns</p>\n",
       "</div>"
      ],
      "text/plain": [
       "      POSTED_BY  UNDER_CONSTRUCTION  RERA  BHK_NO. BHK_OR_RK  SQUARE_FT  \\\n",
       "0         Owner                   0     0        1       BHK      546.0   \n",
       "1        Dealer                   1     1        2       BHK      800.0   \n",
       "2        Dealer                   0     0        2       BHK     1258.0   \n",
       "3        Dealer                   0     0        3       BHK     1401.0   \n",
       "4         Owner                   0     0        1       BHK      431.0   \n",
       "...         ...                 ...   ...      ...       ...        ...   \n",
       "68715    Dealer                   0     1        2       BHK      857.0   \n",
       "68716    Dealer                   0     1        3       BHK     2305.0   \n",
       "68717    Dealer                   1     1        1       BHK    33363.0   \n",
       "68718    Dealer                   0     0        2       BHK     1174.0   \n",
       "68719    Dealer                   0     0        3       BHK     2440.0   \n",
       "\n",
       "       READY_TO_MOVE  RESALE  LONGITUDE   LATITUDE  \n",
       "0                  1       1  21.262000  73.047700  \n",
       "1                  0       0  18.966114  73.148278  \n",
       "2                  1       1  22.592200  88.484911  \n",
       "3                  1       1  26.988300  75.584600  \n",
       "4                  1       1  22.700000  72.870000  \n",
       "...              ...     ...        ...        ...  \n",
       "68715              1       1  19.180000  72.963330  \n",
       "68716              1       1  30.661104  76.746082  \n",
       "68717              0       0  19.222101  72.988231  \n",
       "68718              1       1  18.496670  73.941670  \n",
       "68719              1       1  19.124896  72.893503  \n",
       "\n",
       "[68720 rows x 10 columns]"
      ]
     },
     "execution_count": 42,
     "metadata": {},
     "output_type": "execute_result"
    }
   ],
   "source": [
    "wrangle(test)"
   ]
  },
  {
   "cell_type": "markdown",
   "metadata": {},
   "source": [
    "# II. Splitting Data into Feature Matrix & Target vector"
   ]
  },
  {
   "cell_type": "code",
   "execution_count": 43,
   "metadata": {},
   "outputs": [],
   "source": [
    "target = 'TARGET(PRICE_IN_LACS)'\n",
    "y = train[target]\n",
    "X = train.drop(columns=target)\n",
    "\n",
    "X_train, X_val, y_train, y_val = train_test_split(X, y, test_size=0.2, random_state = 42)\n",
    "\n",
    "assert len(X_train) + len(X_val) == len(X)"
   ]
  },
  {
   "cell_type": "markdown",
   "metadata": {},
   "source": [
    "# III. Establishing a Baseline "
   ]
  },
  {
   "cell_type": "code",
   "execution_count": 44,
   "metadata": {},
   "outputs": [
    {
     "name": "stdout",
     "output_type": "stream",
     "text": [
      "Baseline MAE: 141.16040063573556\n"
     ]
    }
   ],
   "source": [
    "y_pred = [y_train.mean()] * len(y_train)\n",
    "print('Baseline MAE:', mean_absolute_error(y_train, y_pred))"
   ]
  },
  {
   "cell_type": "markdown",
   "metadata": {},
   "source": [
    "# IV. Building a Ridge Regresion Model with built-in Cross Validation"
   ]
  },
  {
   "cell_type": "code",
   "execution_count": 51,
   "metadata": {},
   "outputs": [
    {
     "name": "stderr",
     "output_type": "stream",
     "text": [
      "c:\\users\\edwin\\.virtualenvs\\build_week_project_#2-dnxha_sd\\lib\\site-packages\\category_encoders\\utils.py:21: FutureWarning: is_categorical is deprecated and will be removed in a future version.  Use is_categorical_dtype instead\n",
      "  elif pd.api.types.is_categorical(cols):\n"
     ]
    },
    {
     "data": {
      "text/plain": [
       "Pipeline(steps=[('onehotencoder',\n",
       "                 OneHotEncoder(cols=['POSTED_BY', 'BHK_OR_RK'],\n",
       "                               use_cat_names=True)),\n",
       "                ('standardscaler', StandardScaler()),\n",
       "                ('ridgecv', RidgeCV(alphas=array([ 0.5,  5. , 50. ]), cv=5))])"
      ]
     },
     "execution_count": 51,
     "metadata": {},
     "output_type": "execute_result"
    }
   ],
   "source": [
    "model_rcv = make_pipeline(\n",
    "OneHotEncoder(use_cat_names=True),\n",
    "StandardScaler(),\n",
    "RidgeCV(alphas=(0.5, 5.0, 50.0),\n",
    "        cv=5)\n",
    ")\n",
    "\n",
    "model_rcv.fit(X_train, y_train)"
   ]
  },
  {
   "cell_type": "markdown",
   "metadata": {},
   "source": [
    "## Checking Metrics"
   ]
  },
  {
   "cell_type": "code",
   "execution_count": 59,
   "metadata": {},
   "outputs": [
    {
     "name": "stdout",
     "output_type": "stream",
     "text": [
      "Training MAE: 139.53167388883858\n",
      "Validation MAE: 131.26124720801695\n",
      "Training R^2: 0.16478950515001323\n",
      "Validation R^2: 0.40583764813692247\n"
     ]
    }
   ],
   "source": [
    "print('Training MAE:', mean_absolute_error(y_train, model_rcv.predict(X_train)))\n",
    "print('Validation MAE:', mean_absolute_error(y_val, model_rcv.predict(X_val)))\n",
    "print('Training R^2:', model_rcv.score(X_train, y_train))\n",
    "print('Validation R^2:', model_rcv.score(X_val, y_val))"
   ]
  },
  {
   "cell_type": "markdown",
   "metadata": {},
   "source": [
    "## Feature Importance for RidgeRegression CV Model"
   ]
  },
  {
   "cell_type": "code",
   "execution_count": 56,
   "metadata": {},
   "outputs": [
    {
     "data": {
      "image/png": "[encoded data removed]",
      "text/plain": [
       "<Figure size 432x288 with 1 Axes>"
      ]
     },
     "metadata": {
      "needs_background": "light"
     },
     "output_type": "display_data"
    }
   ],
   "source": [
    "coeffs_ = model_rcv.named_steps['ridgecv'].coef_\n",
    "feature_names = model_rcv.named_steps['onehotencoder'].get_feature_names()\n",
    "\n",
    "feature_imp = pd.Series(coeffs_, index=feature_names)\n",
    "feature_imp.sort_values(ascending=True, key=lambda x: abs(x), inplace=True)\n",
    "feature_imp.tail(10).plot(kind='barh')\n",
    "plt.xlabel('Importance [₹]')\n",
    "plt.ylabel('Feature')\n",
    "plt.title('Feature Importance for Ridge Regression CV Model')\n",
    "plt.show()"
   ]
  },
  {
   "cell_type": "markdown",
   "metadata": {},
   "source": [
    "# V. Building Random Forest Model"
   ]
  },
  {
   "cell_type": "code",
   "execution_count": 61,
   "metadata": {},
   "outputs": [],
   "source": [
    "model_rf = make_pipeline(\n",
    "OrdinalEncoder(),\n",
    "StandardScaler(),\n",
    "RandomForestRegressor(n_estimators=200,\n",
    "                      max_depth=30,\n",
    "                      max_features='sqrt',\n",
    "                      criterion='mae',\n",
    "                      bootstrap=True,\n",
    "                      n_jobs=-1,\n",
    "                      random_state=42,\n",
    "                      max_samples=0.8)\n",
    ")\n",
    "\n",
    "model_rf.fit(X_train, y_train);"
   ]
  },
  {
   "cell_type": "markdown",
   "metadata": {},
   "source": [
    "## Checking Metrics"
   ]
  },
  {
   "cell_type": "code",
   "execution_count": 77,
   "metadata": {},
   "outputs": [
    {
     "name": "stdout",
     "output_type": "stream",
     "text": [
      "Training MAE: 16.803741040959252\n",
      "Test MAE: 40.50350255898829\n",
      "Training accuracy score: 0.9739059076993494\n",
      "Validation accuracy score: 0.7100640610669738\n"
     ]
    }
   ],
   "source": [
    "print('Training MAE:', mean_absolute_error(y_train, model_rf.predict(X_train)))\n",
    "print('Test MAE:', mean_absolute_error(y_val, model_rf.predict(X_val)))\n",
    "print('Training accuracy score:', model_rf.score(X_train, y_train))\n",
    "print('Validation accuracy score:', model_rf.score(X_val, y_val))"
   ]
  },
  {
   "cell_type": "markdown",
   "metadata": {},
   "source": [
    "## Permutation Importances"
   ]
  },
  {
   "cell_type": "code",
   "execution_count": 66,
   "metadata": {},
   "outputs": [],
   "source": [
    "perm_imp = permutation_importance(model_rf,\n",
    "                                  X_val,\n",
    "                                  y_val,\n",
    "                                  n_jobs=-1,\n",
    "                                  random_state=42\n",
    "                                 )"
   ]
  },
  {
   "cell_type": "code",
   "execution_count": 68,
   "metadata": {},
   "outputs": [],
   "source": [
    "data = {'importances_mean': perm_imp['importances_mean'],\n",
    "       'importances_std': perm_imp['importances_mean']}"
   ]
  },
  {
   "cell_type": "code",
   "execution_count": 71,
   "metadata": {},
   "outputs": [],
   "source": [
    "df = pd.DataFrame(data, index=X_val.columns)\n",
    "df.sort_values(by='importances_mean', inplace=True)"
   ]
  },
  {
   "cell_type": "code",
   "execution_count": 73,
   "metadata": {},
   "outputs": [
    {
     "data": {
      "image/png": "[encoded data removed]",
      "text/plain": [
       "<Figure size 432x288 with 1 Axes>"
      ]
     },
     "metadata": {
      "needs_background": "light"
     },
     "output_type": "display_data"
    }
   ],
   "source": [
    "df['importances_mean'].tail(10).plot(kind='barh')\n",
    "plt.xlabel('Importances (drop in accuracy)')\n",
    "plt.ylabel('Feature')\n",
    "plt.title('Permutation Importance for RandomForestRegressor model')\n",
    "plt.show()"
   ]
  },
  {
   "cell_type": "markdown",
   "metadata": {},
   "source": [
    "# VI. Building GradientBoosterRegressor Model"
   ]
  },
  {
   "cell_type": "code",
   "execution_count": 92,
   "metadata": {},
   "outputs": [
    {
     "data": {
      "text/plain": [
       "Pipeline(steps=[('ordinalencoder',\n",
       "                 OrdinalEncoder(cols=['POSTED_BY', 'BHK_OR_RK'],\n",
       "                                mapping=[{'col': 'POSTED_BY',\n",
       "                                          'data_type': dtype('O'),\n",
       "                                          'mapping': Dealer     1\n",
       "Owner      2\n",
       "Builder    3\n",
       "NaN       -2\n",
       "dtype: int64},\n",
       "                                         {'col': 'BHK_OR_RK',\n",
       "                                          'data_type': dtype('O'),\n",
       "                                          'mapping': BHK    1\n",
       "RK     2\n",
       "NaN   -2\n",
       "dtype: int64}])),\n",
       "                ('standardscaler', StandardScaler()),\n",
       "                ('gradientboostingregressor',\n",
       "                 GradientBoostingRegressor(loss='huber', max_features='auto',\n",
       "                                           n_estimators=200,\n",
       "                                           random_state=42))])"
      ]
     },
     "execution_count": 92,
     "metadata": {},
     "output_type": "execute_result"
    }
   ],
   "source": [
    "model_gbr = make_pipeline(\n",
    "    OrdinalEncoder(),\n",
    "    StandardScaler(),\n",
    "    GradientBoostingRegressor(loss='huber',\n",
    "                         n_estimators=200,\n",
    "                         max_features='auto',\n",
    "                         random_state=42)\n",
    ")\n",
    "\n",
    "model_gbr.fit(X_train, y_train)"
   ]
  },
  {
   "cell_type": "markdown",
   "metadata": {},
   "source": [
    "## Checking Metrics"
   ]
  },
  {
   "cell_type": "code",
   "execution_count": 93,
   "metadata": {},
   "outputs": [
    {
     "name": "stdout",
     "output_type": "stream",
     "text": [
      "Training MAE: 34.236995465123485\n",
      "Test MAE: 40.96880270909225\n",
      "Training accuracy score: 0.9448971261521204\n",
      "Validation accuracy score: 0.8398140417093396\n"
     ]
    }
   ],
   "source": [
    "print('Training MAE:', mean_absolute_error(y_train, model_gbr.predict(X_train)))\n",
    "print('Test MAE:', mean_absolute_error(y_val, model_gbr.predict(X_val)))\n",
    "print('Training accuracy score:', model_gbr.score(X_train, y_train))\n",
    "print('Validation accuracy score:', model_gbr.score(X_val, y_val))"
   ]
  },
  {
   "cell_type": "markdown",
   "metadata": {},
   "source": [
    "# VII. Building XGBoost Regressor Model"
   ]
  },
  {
   "cell_type": "code",
   "execution_count": 120,
   "metadata": {},
   "outputs": [
    {
     "name": "stdout",
     "output_type": "stream",
     "text": [
      "[02:31:21] WARNING: C:\\Users\\Administrator\\workspace\\xgboost-win64_release_1.2.0\\src\\learner.cc:516: \n",
      "Parameters: { early_stopping_rounds, eval_set, verbose } might not be used.\n",
      "\n",
      "  This may not be accurate due to some parameters are only used in language bindings but\n",
      "  passed down to XGBoost core.  Or some parameters are not used but slip through this\n",
      "  verification. Please open an issue if you find above cases.\n",
      "\n",
      "\n"
     ]
    }
   ],
   "source": [
    "eval_set = [(X_val, y_val)]\n",
    "\n",
    "model_xgb = make_pipeline(\n",
    "    OrdinalEncoder(),\n",
    "    StandardScaler(),\n",
    "    XGBRegressor(n_estimators=60,\n",
    "                  max_depth=10,\n",
    "                 min_child_weight=9,\n",
    "                 gamma=12,\n",
    "                  learning_rate=0.5,\n",
    "                  objective='reg:squarederror',\n",
    "                 tree_method='hist',\n",
    "                  random_state=42, \n",
    "                  eval_set=eval_set,\n",
    "                  eval_metric='rmse',\n",
    "                  early_stopping_rounds=10,\n",
    "                  verbose=True,\n",
    "                  n_jobs=-1)\n",
    ")\n",
    "\n",
    "model_xgb.fit(X_train, y_train);"
   ]
  },
  {
   "cell_type": "code",
   "execution_count": 121,
   "metadata": {},
   "outputs": [
    {
     "name": "stdout",
     "output_type": "stream",
     "text": [
      "Training MAE: 23.62290812023164\n",
      "Test MAE: 44.668379602369114\n",
      "Training accuracy score: 0.9910637129907442\n",
      "Validation accuracy score: 0.7464669550507044\n"
     ]
    }
   ],
   "source": [
    "print('Training MAE:', mean_absolute_error(y_train, model_xgb.predict(X_train)))\n",
    "print('Test MAE:', mean_absolute_error(y_val, model_xgb.predict(X_val)))\n",
    "print('Training accuracy score:', model_xgb.score(X_train, y_train))\n",
    "print('Validation accuracy score:', model_xgb.score(X_val, y_val))"
   ]
  }
 ],
 "metadata": {
  "kernelspec": {
   "display_name": "Python 3",
   "language": "python",
   "name": "python3"
  },
  "language_info": {
   "codemirror_mode": {
    "name": "ipython",
    "version": 3
   },
   "file_extension": ".py",
   "mimetype": "text/x-python",
   "name": "python",
   "nbconvert_exporter": "python",
   "pygments_lexer": "ipython3",
   "version": "3.8.6"
  }
 },
 "nbformat": 4,
 "nbformat_minor": 4
}
